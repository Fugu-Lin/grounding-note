{
 "cells": [
  {
   "cell_type": "code",
   "execution_count": null,
   "metadata": {},
   "outputs": [],
   "source": [
    "import os\n",
    "import pandas as pd\n",
    "import textwrap\n",
    "import google.generativeai as genai\n",
    "from dotenv import load_dotenv\n",
    "from IPython.display import display\n",
    "from IPython.display import Markdown"
   ]
  },
  {
   "cell_type": "code",
   "execution_count": null,
   "metadata": {},
   "outputs": [],
   "source": [
    "# load the environment variables\n",
    "load_dotenv()\n",
    "# fetch an environment variable.\n",
    "GOOGLE_API_KEY = os.getenv('GOOGLE_API_KEY')\n",
    "\n",
    "genai.configure(api_key=GOOGLE_API_KEY)"
   ]
  },
  {
   "cell_type": "markdown",
   "metadata": {},
   "source": [
    "LLM 改寫 Query"
   ]
  },
  {
   "cell_type": "code",
   "execution_count": null,
   "metadata": {},
   "outputs": [],
   "source": [
    "# prompt for the User imput\n",
    "def make_prompt_user(query):\n",
    "    prompt = (\"\"\"\n",
    "                You are excel at extracting main points from a paragraph and further generating keywords for googling. \n",
    "                Your job is to discern the users' intent from the paragraph and \n",
    "                formulate keywords in both input language and English, producing at least 3 distinct results.\n",
    "                These keywords are for getting most relevant results from Google search.\n",
    "                Optimizing these keywords according to the rules of each different language systems.\n",
    "                If users' intent is not clear, you should ask for more information.\n",
    "                If the user requests information unrelated to AI tool recommendations, return \n",
    "                \"Sorry, I can only search for information about AI tools\".\n",
    "                For information related to tutorials, append 'Medium' or other reputable journalism sites to the \n",
    "                end of the search query. Ensure that the search results of queries are relevant to the paragraph and \n",
    "                include tool tutorials. Finally, print out the finalized keywords.\n",
    "                QUESTION: '{query}'\n",
    "                ANSWER:\n",
    "                \"\"\").format(query=query)\n",
    "    return prompt"
   ]
  },
  {
   "cell_type": "code",
   "execution_count": null,
   "metadata": {},
   "outputs": [],
   "source": [
    "# start with gemini model\n",
    "model = genai.GenerativeModel('gemini-pro')\n",
    "\n",
    "prompt = \"我需要一個AI工具來幫助我安排行程。我需要詳細的教學。有什麼推薦的工具嗎？最好是免費的工具\"\n",
    "# prompt = \"I need an AI tool to help me plan my trip. I need detailed tutorials. Any recommended tools? Preferably free tools.\"\n",
    "\n",
    "response = model.generate_content(\n",
    "    make_prompt_user(prompt),\n",
    "    generation_config={\n",
    "        'temperature': 0.5,\n",
    "        'top_k': 40,\n",
    "    }\n",
    ")\n",
    "\n",
    "print(response.text)"
   ]
  },
  {
   "cell_type": "markdown",
   "metadata": {},
   "source": [
    "LLM 將爬蟲結果整理成 markdown 格式"
   ]
  },
  {
   "cell_type": "code",
   "execution_count": null,
   "metadata": {},
   "outputs": [],
   "source": [
    "# libraries for web scraping\n",
    "import requests\n",
    "from bs4 import BeautifulSoup"
   ]
  },
  {
   "cell_type": "code",
   "execution_count": null,
   "metadata": {},
   "outputs": [],
   "source": [
    "# prompt for turn summary of website info into markdown file\n",
    "def make_prompt_mdfile(query):\n",
    "    prompt = (\"\"\"\n",
    "                You are good at summarizing information of the website and return the results in markdown format.\n",
    "                Website_html: '{query}'\n",
    "                ANSWER:\n",
    "                \"\"\").format(query=query)\n",
    "    return prompt"
   ]
  },
  {
   "cell_type": "code",
   "execution_count": null,
   "metadata": {},
   "outputs": [],
   "source": [
    "# 從給定的URL抓取網頁內容\n",
    "def fetch_webpage(url):\n",
    "    response = requests.get(url)\n",
    "    response.raise_for_status()\n",
    "    return response.text\n",
    "\n",
    "# 從HTML中解析內容\n",
    "def parse_html(html):\n",
    "    soup = BeautifulSoup(html, 'html.parser')\n",
    "\n",
    "    content = ' '.join([p.text for p in soup.find_all('p')])\n",
    "    content = soup.title.string + ' ' + content\n",
    "    return content\n",
    "\n",
    "def web_to_md(url):\n",
    "    html = fetch_webpage(url)\n",
    "    content = parse_html(html)\n",
    "    response = model.generate_content(\n",
    "        make_prompt_mdfile(content),\n",
    "        generation_config={\n",
    "            'temperature': 0.5,\n",
    "            'top_k': 40,\n",
    "        }\n",
    "    )\n",
    "    print(response.text)"
   ]
  },
  {
   "cell_type": "code",
   "execution_count": null,
   "metadata": {},
   "outputs": [],
   "source": [
    "web_to_md('https://clickup.com/blog/ai-travel-planners/')"
   ]
  }
 ],
 "metadata": {
  "kernelspec": {
   "display_name": "devpost_google",
   "language": "python",
   "name": "python3"
  },
  "language_info": {
   "codemirror_mode": {
    "name": "ipython",
    "version": 3
   },
   "file_extension": ".py",
   "mimetype": "text/x-python",
   "name": "python",
   "nbconvert_exporter": "python",
   "pygments_lexer": "ipython3",
   "version": "3.12.2"
  }
 },
 "nbformat": 4,
 "nbformat_minor": 2
}
