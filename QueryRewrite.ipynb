{
 "cells": [
  {
   "cell_type": "code",
   "execution_count": null,
   "metadata": {},
   "outputs": [],
   "source": [
    "import os\n",
    "import pandas as pd\n",
    "import textwrap\n",
    "import google.generativeai as genai\n",
    "from dotenv import load_dotenv\n",
    "from IPython.display import display\n",
    "from IPython.display import Markdown"
   ]
  },
  {
   "cell_type": "code",
   "execution_count": null,
   "metadata": {},
   "outputs": [],
   "source": [
    "# load the environment variables\n",
    "load_dotenv()\n",
    "# fetch an environment variable.\n",
    "GOOGLE_API_KEY = os.getenv('GOOGLE_API_KEY')\n",
    "\n",
    "genai.configure(api_key=GOOGLE_API_KEY)"
   ]
  },
  {
   "cell_type": "markdown",
   "metadata": {},
   "source": [
    "LLM 改寫 Query"
   ]
  },
  {
   "cell_type": "code",
   "execution_count": null,
   "metadata": {},
   "outputs": [],
   "source": [
    "# prompt for the User imput\n",
    "def make_prompt_user(query):\n",
    "    prompt = (\"\"\"\n",
    "                You are excel at extracting main points from a paragraph and further generating keywords for googling. \n",
    "                Your job is to discern the users' intent from the paragraph and formulate keywords in both input language and English, \n",
    "                producing at least 5 distinct results seperatly.\n",
    "                These keywords are for getting most relevant results from Google search.\n",
    "                Optimizing these keywords according to the rules of each different language systems.\n",
    "                If users' intent is not clear, you should ask for more information.\n",
    "                If the user requests information unrelated to AI tool recommendations, return \n",
    "                \"Sorry, I can only search for information about AI tools\".\n",
    "                For information related to tutorials, append Medium, Reddit, Youtube, Wiki or other reputable journalism sites to the \n",
    "                end of the search query. Ensure that the search results of queries are relevant to the paragraph and \n",
    "                include tool tutorials. Finally, return the finalized keywords in following type.\n",
    "                QUESTION: '{query}'\n",
    "                ANSWER: keyword1\\nkeyword2\\nkeyword3\n",
    "                \"\"\").format(query=query)\n",
    "    return prompt"
   ]
  },
  {
   "cell_type": "code",
   "execution_count": null,
   "metadata": {},
   "outputs": [],
   "source": [
    "# start with gemini model\n",
    "model = genai.GenerativeModel('gemini-1.5-pro-latest')\n",
    "\n",
    "# prompt = \"我需要一個AI工具來幫助我安排行程，需要詳細的教學，有什麼推薦的工具嗎？最好是免費的工具\"\n",
    "# prompt = \"我要去韓國玩五天，需要一個可以幫我安排行程的AI工具，有什麼推薦的工具嗎？須附上使用步驟，最好是免費的\"\n",
    "prompt = \"I need an AI tool to help me plan my trip. I need detailed tutorials. Any recommended tools? Preferably free tools.\"\n",
    "\n",
    "response = model.generate_content(\n",
    "    make_prompt_user(prompt),\n",
    "    generation_config={\n",
    "        'temperature': 0.5,\n",
    "        'top_k': 90,\n",
    "    }\n",
    ")"
   ]
  },
  {
   "cell_type": "code",
   "execution_count": null,
   "metadata": {},
   "outputs": [],
   "source": [
    "response.text"
   ]
  },
  {
   "cell_type": "markdown",
   "metadata": {},
   "source": [
    "LLM 將爬蟲結果整理成 markdown 格式"
   ]
  },
  {
   "cell_type": "code",
   "execution_count": null,
   "metadata": {},
   "outputs": [],
   "source": [
    "# libraries for web scraping\n",
    "import requests\n",
    "from bs4 import BeautifulSoup\n",
    "\n",
    "from selenium import webdriver\n",
    "from selenium.webdriver.chrome.service import Service\n",
    "from selenium.webdriver.common.by import By\n",
    "from selenium.webdriver.support.ui import WebDriverWait\n",
    "from selenium.webdriver.support import expected_conditions as EC\n",
    "from selenium.webdriver.chrome.options import Options"
   ]
  },
  {
   "cell_type": "markdown",
   "metadata": {},
   "source": [
    "Web crawler"
   ]
  },
  {
   "cell_type": "code",
   "execution_count": null,
   "metadata": {},
   "outputs": [],
   "source": [
    "# prompt for turn summary of website info into markdown file\n",
    "def make_prompt_mdfile(query):\n",
    "    prompt = (\"\"\"\n",
    "                You are good at summarizing information of the website and return the results in markdown format.\n",
    "                A markdown document should outline the main features of the answer for users. \n",
    "                The document should be structured as follows:\n",
    "                Title: Use an H1 tag (#) for the title.\n",
    "                Use H3 tags (###) for the sections and H4 tags (####) for sub-sections.\n",
    "                Sections should be clearly labeled and easy to navigate.\n",
    "                Section 1. Introduction\n",
    "                Provide a brief overview of the user queries and information of the results.\n",
    "                Section 2. Recommend List\n",
    "                Each feature should be a bullet point, and any sub-features should be sub-bullets.\n",
    "                Section 3. Installation Guide\n",
    "                The steps for installation should be listed in a numbered list. \n",
    "                If there are any code snippets required for installation, please include them using code blocks.\n",
    "                Section 4. Usage\n",
    "                This section should explain how to use the software product. \n",
    "                Any steps should be in a numbered list, and include code snippets where necessary.\n",
    "                Section 5. FAQ\n",
    "                Each question should be a bullet point with an H5 tag (#####) for the question, and the answer should be written directly below the question without any special formatting.\n",
    "\n",
    "                Please ensure that the document is easy to read and navigate, with clear headings and subheadings, bullet points for key points, and numbered lists for any step-by-step instructions.\"\n",
    "                Website_html: '{query}'\n",
    "                ANSWER:\n",
    "                \"\"\").format(query=query)\n",
    "    return prompt"
   ]
  },
  {
   "cell_type": "code",
   "execution_count": null,
   "metadata": {},
   "outputs": [],
   "source": [
    "# 從關鍵字搜尋網頁\n",
    "def search_webpage(query):\n",
    "    url = 'https://www.google.com/search?q=' + query\n",
    "    return url\n",
    "\n",
    "# 從給定的URL抓取網頁內容\n",
    "def fetch_webpage(url):\n",
    "    response = requests.get(url)\n",
    "    response.raise_for_status()\n",
    "    return response.text\n",
    "\n",
    "# 從HTML中解析內容\n",
    "def parse_html(html):\n",
    "    soup = BeautifulSoup(html, 'html.parser')\n",
    "\n",
    "    content = ' '.join([p.text for p in soup.find_all('p')])\n",
    "    content = soup.title.string + ' ' + content\n",
    "    return content\n",
    "\n",
    "def web_to_md(url):\n",
    "    html = fetch_webpage(url)\n",
    "    content = parse_html(html)\n",
    "    response = model.generate_content(\n",
    "        make_prompt_mdfile(content),\n",
    "        generation_config={\n",
    "            'temperature': 0.5,\n",
    "            'top_k': 50,\n",
    "            'max_output_tokens': 1280\n",
    "        }\n",
    "    )\n",
    "    return response.text"
   ]
  },
  {
   "cell_type": "code",
   "execution_count": null,
   "metadata": {},
   "outputs": [],
   "source": [
    "# options = Options()\n",
    "# options.binary_location = '../work/'\n",
    "# driver = webdriver.Chrome(options = options)\n",
    "\n",
    "# driver.get(search_webpage('AI tools for trip planning tutorial'))\n",
    "\n",
    "# # 等待页面加载\n",
    "# wait = WebDriverWait(driver, 10)"
   ]
  },
  {
   "cell_type": "code",
   "execution_count": null,
   "metadata": {},
   "outputs": [],
   "source": [
    "res_md = web_to_md('https://www.geeksforgeeks.org/ai-chatbots-for-travel-planning/')"
   ]
  }
 ],
 "metadata": {
  "kernelspec": {
   "display_name": "devpost_google",
   "language": "python",
   "name": "python3"
  },
  "language_info": {
   "codemirror_mode": {
    "name": "ipython",
    "version": 3
   },
   "file_extension": ".py",
   "mimetype": "text/x-python",
   "name": "python",
   "nbconvert_exporter": "python",
   "pygments_lexer": "ipython3",
   "version": "3.12.2"
  }
 },
 "nbformat": 4,
 "nbformat_minor": 2
}
