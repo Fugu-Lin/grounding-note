{
 "cells": [
  {
   "cell_type": "code",
   "execution_count": 1,
   "metadata": {},
   "outputs": [
    {
     "name": "stderr",
     "output_type": "stream",
     "text": [
      "/Users/winnietu/Desktop/programming/google_devpost/devpost_google/lib/python3.12/site-packages/tqdm/auto.py:21: TqdmWarning: IProgress not found. Please update jupyter and ipywidgets. See https://ipywidgets.readthedocs.io/en/stable/user_install.html\n",
      "  from .autonotebook import tqdm as notebook_tqdm\n"
     ]
    }
   ],
   "source": [
    "import os\n",
    "import pandas as pd\n",
    "import textwrap\n",
    "import google.generativeai as genai\n",
    "from dotenv import load_dotenv\n",
    "from IPython.display import display\n",
    "from IPython.display import Markdown"
   ]
  },
  {
   "cell_type": "code",
   "execution_count": 2,
   "metadata": {},
   "outputs": [],
   "source": [
    "# load the environment variables\n",
    "load_dotenv()\n",
    "# fetch an environment variable.\n",
    "GOOGLE_API_KEY = os.getenv('GOOGLE_API_KEY')\n",
    "\n",
    "genai.configure(api_key=GOOGLE_API_KEY)"
   ]
  },
  {
   "cell_type": "markdown",
   "metadata": {},
   "source": [
    "LLM 改寫 Query"
   ]
  },
  {
   "cell_type": "code",
   "execution_count": 7,
   "metadata": {},
   "outputs": [],
   "source": [
    "# prompt for the User imput\n",
    "def make_prompt_user(query):\n",
    "    prompt = (\"\"\"\n",
    "                You are excel at extracting main points from a paragraph and further generating keywords for googling. \n",
    "                Your job is to discern the users' intent from the paragraph and formulate keywords in both input language and English, \n",
    "                producing at least 5 distinct results seperatly.\n",
    "                These keywords are for getting most relevant results from Google search.\n",
    "                Optimizing these keywords according to the rules of each different language systems.\n",
    "                If users' intent is not clear, you should ask for more information.\n",
    "                If the user requests information unrelated to AI tool recommendations, return \n",
    "                \"Sorry, I can only search for information about AI tools\".\n",
    "                For information related to tutorials, append Medium, Reddit, Youtube, Wiki or other reputable journalism sites to the \n",
    "                end of the search query. Ensure that the search results of queries are relevant to the paragraph and \n",
    "                include tool tutorials. Finally, return the finalized keywords in following type.\n",
    "                QUESTION: '{query}'\n",
    "                ANSWER: keyword1\\nkeyword2\\nkeyword3\n",
    "                \"\"\").format(query=query)\n",
    "    return prompt"
   ]
  },
  {
   "cell_type": "code",
   "execution_count": 22,
   "metadata": {},
   "outputs": [
    {
     "name": "stdout",
     "output_type": "stream",
     "text": [
      "QUESTION: '我要去韓國玩五天，需要一個可以幫我安排行程的AI工具，有什麼推薦的工具嗎？須附上使用步驟，最好是免費的'\n",
      "ANSWER: \n",
      "**中文**\n",
      "keyword1: 韩国 旅游 行程安排 AI 工具 免费 教程\n",
      "keyword2: 五天 韩国 行程 定制 app 推荐 知乎\n",
      "keyword3: 智能 旅行助手  韩国 自由行  规划  攻略  小红书\n",
      "keyword4: 最佳  韩国 旅行路线  生成器  免费  豆瓣\n",
      "keyword5:  AI 旅行规划 网站  韩国  中文  使用说明 \n",
      "\n",
      "**English**\n",
      "keyword1:  Korea trip itinerary AI planner free tutorial Reddit\n",
      "keyword2:  5 days Korea itinerary app recommendation free Youtube\n",
      "keyword3: best AI travel assistant Korea itinerary generator free\n",
      "keyword4:  plan my trip to Korea AI tool step-by-step Medium\n",
      "keyword5: free Korea travel itinerary planning website tutorial Wiki\n",
      "\n"
     ]
    }
   ],
   "source": [
    "# start with gemini model\n",
    "model = genai.GenerativeModel('gemini-1.5-pro-latest')\n",
    "\n",
    "# prompt = \"我需要一個AI工具來幫助我安排行程，需要詳細的教學，有什麼推薦的工具嗎？最好是免費的工具\"\n",
    "prompt = \"我要去韓國玩五天，需要一個可以幫我安排行程的AI工具，有什麼推薦的工具嗎？須附上使用步驟，最好是免費的\"\n",
    "# prompt = \"I need an AI tool to help me plan my trip. I need detailed tutorials. Any recommended tools? Preferably free tools.\"\n",
    "\n",
    "response = model.generate_content(\n",
    "    make_prompt_user(prompt),\n",
    "    generation_config={\n",
    "        'temperature': 0.5,\n",
    "        'top_k': 90,\n",
    "    }\n",
    ")\n",
    "\n",
    "print(response.text)"
   ]
  },
  {
   "cell_type": "code",
   "execution_count": null,
   "metadata": {},
   "outputs": [],
   "source": [
    "# response.text.split('\\n')[1].split(': ')[1]"
   ]
  },
  {
   "cell_type": "markdown",
   "metadata": {},
   "source": [
    "LLM 將爬蟲結果整理成 markdown 格式"
   ]
  },
  {
   "cell_type": "code",
   "execution_count": 9,
   "metadata": {},
   "outputs": [],
   "source": [
    "# libraries for web scraping\n",
    "import requests\n",
    "from bs4 import BeautifulSoup\n",
    "\n",
    "from selenium import webdriver\n",
    "from selenium.webdriver.chrome.service import Service\n",
    "from selenium.webdriver.common.by import By\n",
    "from selenium.webdriver.support.ui import WebDriverWait\n",
    "from selenium.webdriver.support import expected_conditions as EC\n",
    "from selenium.webdriver.chrome.options import Options"
   ]
  },
  {
   "cell_type": "markdown",
   "metadata": {},
   "source": [
    "Web crawler"
   ]
  },
  {
   "cell_type": "code",
   "execution_count": 23,
   "metadata": {},
   "outputs": [],
   "source": [
    "# prompt for turn summary of website info into markdown file\n",
    "def make_prompt_mdfile(query):\n",
    "    prompt = (\"\"\"\n",
    "                You are good at summarizing information of the website and return the results in markdown format.\n",
    "                A markdown document should outline the main features of the answer for users. \n",
    "                The document should be structured as follows:\n",
    "                Title: Use an H1 tag (#) for the title.\n",
    "                Use H3 tags (###) for the sections and H4 tags (####) for sub-sections.\n",
    "                Sections should be clearly labeled and easy to navigate.\n",
    "                Section 1. Introduction\n",
    "                Provide a brief overview of the user queries and information of the results.\n",
    "                Section 2. Recommend List\n",
    "                Each feature should be a bullet point, and any sub-features should be sub-bullets.\n",
    "                Section 3. Installation Guide\n",
    "                The steps for installation should be listed in a numbered list. \n",
    "                If there are any code snippets required for installation, please include them using code blocks.\n",
    "                Section 4. Usage\n",
    "                This section should explain how to use the software product. \n",
    "                Any steps should be in a numbered list, and include code snippets where necessary.\n",
    "                Section 5. FAQ\n",
    "                Each question should be a bullet point with an H5 tag (#####) for the question, and the answer should be written directly below the question without any special formatting.\n",
    "\n",
    "                Please ensure that the document is easy to read and navigate, with clear headings and subheadings, bullet points for key points, and numbered lists for any step-by-step instructions.\"\n",
    "                Website_html: '{query}'\n",
    "                ANSWER:\n",
    "                \"\"\").format(query=query)\n",
    "    return prompt"
   ]
  },
  {
   "cell_type": "code",
   "execution_count": 30,
   "metadata": {},
   "outputs": [],
   "source": [
    "# 從關鍵字搜尋網頁\n",
    "def search_webpage(query):\n",
    "    url = 'https://www.google.com/search?q=' + query\n",
    "    return url\n",
    "\n",
    "# 從給定的URL抓取網頁內容\n",
    "def fetch_webpage(url):\n",
    "    response = requests.get(url)\n",
    "    response.raise_for_status()\n",
    "    return response.text\n",
    "\n",
    "# 從HTML中解析內容\n",
    "def parse_html(html):\n",
    "    soup = BeautifulSoup(html, 'html.parser')\n",
    "\n",
    "    content = ' '.join([p.text for p in soup.find_all('p')])\n",
    "    content = soup.title.string + ' ' + content\n",
    "    return content\n",
    "\n",
    "def web_to_md(url):\n",
    "    html = fetch_webpage(url)\n",
    "    content = parse_html(html)\n",
    "    response = model.generate_content(\n",
    "        make_prompt_mdfile(content),\n",
    "        generation_config={\n",
    "            'temperature': 0.5,\n",
    "            'top_k': 50,\n",
    "            'max_output_tokens': 1280\n",
    "        }\n",
    "    )\n",
    "    print(response.text)"
   ]
  },
  {
   "cell_type": "code",
   "execution_count": null,
   "metadata": {},
   "outputs": [],
   "source": [
    "options = Options()\n",
    "options.binary_location = '../work/'\n",
    "driver = webdriver.Chrome(options = options)\n",
    "\n",
    "driver.get(search_webpage('AI tools for trip planning tutorial'))\n",
    "\n",
    "# 等待页面加载\n",
    "wait = WebDriverWait(driver, 10)"
   ]
  },
  {
   "cell_type": "code",
   "execution_count": 31,
   "metadata": {},
   "outputs": [
    {
     "name": "stdout",
     "output_type": "stream",
     "text": [
      "# AI Chatbots for Travel Planning\n",
      "\n",
      "## Introduction\n",
      "\n",
      "This document summarizes the content of an article about AI chatbots designed for travel planning. The article highlights the benefits of using these chatbots to streamline the often tedious process of planning a trip. \n",
      "\n",
      "## Recommend List\n",
      "\n",
      "Here is a list of AI-powered travel chatbots discussed in the article:\n",
      "\n",
      "* **Layla (formerly Roam Around):**\n",
      "    * User-friendly interface.\n",
      "    * Creates personalized itineraries for popular destinations.\n",
      "    * Requires minimal input: destination, travel dates, and preferences.\n",
      "    * Link: [https://justasklayla.com/](https://justasklayla.com/)\n",
      "\n",
      "* **Wonderplan:**\n",
      "    * Budget-friendly option.\n",
      "    * Provides detailed cost breakdowns for various activities.\n",
      "    * Allows customization of itineraries by adding or removing items.\n",
      "    * Link: [https://wonderplan.ai/](https://wonderplan.ai/)\n",
      "\n",
      "* **Trip Planner AI:**\n",
      "    * Offers unique features like itinerary suggestions based on TikTok and Instagram content.\n",
      "    * Enables multi-destination trip planning.\n",
      "    * Provides route planning capabilities.\n",
      "    * Link: [https://tripplanner.ai/](https://tripplanner.ai/)\n",
      "\n",
      "* **Iplan.ai:**\n",
      "    * Generates comprehensive itineraries.\n",
      "    * Allows personalization by modifying locations and activities.\n",
      "    * Offers easy itinerary sharing options.\n",
      "    * Link: [https://iplan.ai/](https://iplan.ai/)\n",
      "\n",
      "* **Explorerg:**\n",
      "    * Creates itineraries based on predefined options and open-ended trip descriptions.\n",
      "    * Allows customization of travel style, budget, and dates.\n",
      "    * Link: [https://www.explorerg.com/](https://www.explorerg.com/)\n",
      "\n",
      "* **GuideGeek:**\n",
      "    * Functions more like a traditional chatbot, answering travel-related questions.\n",
      "    * Can provide itineraries upon request, but they might not be as personalized as other options.\n",
      "    * Link: [https://guidegeek.com/](https://guidegeek.com/)\n",
      "\n",
      "* **Curiosio:**\n",
      "    * Enables users to define their travel routes and stops.\n",
      "    * Provides an interactive route map that can be adjusted.\n",
      "    * Generates itineraries and offers cost and duration breakdowns.\n",
      "    * Link: [https://curiosio.com/](https://curiosio.com/)\n",
      "\n",
      "* **Vacay:**\n",
      "    * Offers a comprehensive travel planning solution.\n",
      "    * Can answer specific travel queries or auto-generate itineraries.\n",
      "    * Freemium model with subscription plans for advanced features.\n",
      "    * Link: [https://www.usevacay.com/](https://www.usevacay.com/)\n",
      "\n",
      "* **PlanTripAI:**\n",
      "    * Provides personalized trip recommendations and itineraries.\n",
      "    * Considers traveler type and preferred transportation methods.\n",
      "    * User-friendly interface with a visual form for input.\n",
      "    * One-time licensing fee instead of a subscription model.\n",
      "    * Link: [https://plantripai.com/](https://plantripai.com/)\n",
      "\n",
      "* **TripBot:**\n",
      "    * Focuses on creating comprehensive travel plans.\n",
      "    * Offers personalized recommendations and insights to discover unique experiences.\n",
      "    * Link: [https://tripbot.app/](https://tripbot.app/)\n",
      "\n",
      "## Installation Guide\n",
      "\n",
      "This section is not applicable as the document focuses on web-based AI chatbots that do not require installation. \n",
      "\n",
      "## Usage\n",
      "\n",
      "To use the AI chatbots for travel planning:\n",
      "\n",
      "1.  **Choose a chatbot** from the list above that best suits your needs and budget.\n",
      "2.  **Visit the chatbot's website** using the provided link.\n",
      "3.  **Follow the instructions** on the chatbot's interface. Typically, you'll need to input your:\n",
      "    *  Destination\n",
      "    *  Travel dates\n",
      "    *  Preferences (e.g., budget, travel style, interests)\n",
      "4.  **Review the generated itinerary** and customize it further if needed. \n",
      "\n",
      "## FAQ\n",
      "\n",
      "##### What are the benefits of using AI chatbots for travel planning?\n",
      "\n",
      "AI chatbots can save you time and effort by automating the itinerary planning process. They can quickly generate personalized recommendations based on your preferences and constraints.\n",
      "\n",
      "##### Are these chatbots free to use?\n",
      "\n",
      "Some chatbots are entirely free, while others offer freemium models with paid subscription plans for advanced features. \n",
      "\n",
      "##### Can I customize the itineraries generated by these chatbots?\n",
      "\n",
      "Yes, most of these chatbots allow you to customize the suggested itineraries by adding or removing activities, adjusting the schedule, and modifying other aspects to fit your preferences.\n",
      "\n",
      "##### Are AI chatbots the future of travel planning?\n",
      "\n",
      "While AI chatbots offer a convenient way to plan trips, they might not fully replace traditional travel agents or manual planning for everyone. The ideal approach depends on individual preferences and the complexity of the trip. \n",
      "\n"
     ]
    }
   ],
   "source": [
    "web_to_md('https://www.geeksforgeeks.org/ai-chatbots-for-travel-planning/')"
   ]
  },
  {
   "cell_type": "code",
   "execution_count": null,
   "metadata": {},
   "outputs": [],
   "source": []
  }
 ],
 "metadata": {
  "kernelspec": {
   "display_name": "devpost_google",
   "language": "python",
   "name": "python3"
  },
  "language_info": {
   "codemirror_mode": {
    "name": "ipython",
    "version": 3
   },
   "file_extension": ".py",
   "mimetype": "text/x-python",
   "name": "python",
   "nbconvert_exporter": "python",
   "pygments_lexer": "ipython3",
   "version": "3.12.2"
  }
 },
 "nbformat": 4,
 "nbformat_minor": 2
}
